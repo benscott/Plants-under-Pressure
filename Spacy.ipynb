{
 "cells": [
  {
   "cell_type": "code",
   "execution_count": 5,
   "metadata": {},
   "outputs": [],
   "source": [
    "import spacy\n",
    "from bhl_image import BHLImage\n",
    "from ocr import OCR"
   ]
  },
  {
   "cell_type": "code",
   "execution_count": 2,
   "metadata": {},
   "outputs": [],
   "source": [
    "nlp = spacy.load(\"en_core_web_sm\")"
   ]
  },
  {
   "cell_type": "code",
   "execution_count": 6,
   "metadata": {},
   "outputs": [],
   "source": [
    "image = OCR('https://www.biodiversitylibrary.org/pageimage/16440345')\n",
    "text = image.text"
   ]
  },
  {
   "cell_type": "code",
   "execution_count": 7,
   "metadata": {},
   "outputs": [],
   "source": [
    "doc = nlp(text)"
   ]
  },
  {
   "cell_type": "code",
   "execution_count": 8,
   "metadata": {},
   "outputs": [
    {
     "name": "stdout",
     "output_type": "stream",
     "text": [
      "Noun phrases: ['Volume 95, Number 2\\n2008\\n\\nspecies level', 'further generic consid-\\neration', 'His “working\\ngroups', 'accord', 'the above\\nauthors', 'Barkley', 'Clark', 'Funston', 'the\\nsegregate genera', 'Senecio', 'Cacalia', 'Mexico', 'Central America', 'Roldana', 'the\\nsubtribe', 'Tussilagininae', 'The circumscription', 'these\\ngenera', 'agreement', 'the views', 'King', 'Robinson', 'consistent morphological\\ncharacters', 'the generic level', 'These\\ncharacters', 'the natural relationships', 'the tribe', 'it', 'the groupings', 'that authors', 'Greenman', 'It', 'this backdrop', 'the current revision', 'Roldana', 'the genus', 'the\\nsubtribe Tussilagininae', '48\\nspecies', 'eight varieties', 'It', 'Robinson', 'Brettell', 'it', 'species', 'section Palmatinervii', 'the genus Pericalia', 'four species', 'section Fruticosi', 'Senecio heteroideus', '19 taxa', 'botanical literature', 'MorPHOLOGY', 'HABIT', 'ARCHITECTURE', 'The species', 'Roldana', 'three general\\neroups', 'life forms', 'they', 'some species', 'The first\\neroup', 'sparingly branched or acaules-\\ncent herbaceous perennials', 'less than\\n1 m', 'height', 'The second group', 'strict, erect,\\nsingle-stemmed perennials', '4 m in\\nheight', 'the base', 'These plants', 'few-stemmed groups', 'Plants', 'the third\\neroup', 'stems', 'crowded clusters', 'At least\\nthe lower stems', 'growth rings', 'the small trees', 'Root structure', 'a woody', 'caudex', 'rhizomes', 'perennial herbs', 'the\\ncaudex', 'Field observations', 'Mexico', 'vegetative reproduction', 'new growth', 'the caudex', 'rhizomatous growth', 'the caudex', 'adventitious vegetative growth', 'stems', 'the latter case', 'nodes', 'fallen stems', 'contact', 'the\\neround', 'roots', 'shoots', 'the\\ncolony', 'plants', 'The important characters', 'the stem', 'shape', 'color', 'vestiture', 'stem shape', 'Funston', 'Taxonomic Revision', 'Roldana', 'Funston', 'A. hartwegii', 'both types', 'stem shape', 'The bark', 'the tree species', 'small fissures', 'brownish grey', 'color', 'new growth', 'The stems', 'the\\nother habit forms', 'either red or greenish cream', 'Vestiture', 'an important diagnostic feature', 'the key', 'a tawny lanate\\ntomentum', 'Species', 'four general categories', 'The first category', 'those plants', 'suffruticose herbs', 'the Trans-Mexican Volcanic Belt', 'northward', 'The second category', 'those species', 'a\\nlight', 'covering', 'stipitate-glandular hairs', 'hairs', 'Roldana’s', 'distribution', 'The third type', 'pubescence', 'thin\\nwhite trichomes', 'either a light to\\ndense arachnoid pubescence', 'a tomentum', 'short\\ncurly or long tawny hairs', 'Species', 'this type', 'pubescence', 'the Trans-\\nMexican Volcanic Belt', 'Brettell', 'a unique\\npubescence', 'tawny canescent hairs', 'the under-\\nsurface', 'the leaves', 'the pubescence', 'the\\n\\ncapitulescence', 'The majority', 'species', 'cauline leaves', 'the upper half', 'the stem', 'the glabrous\\nperennial herbs', 'cauline leaves', 'the middle', 'the stem', 'the low-growing\\nherbs', 'leaves', 'Leaf blade venation', 'nine species', 'pinnately veined leaves', 'The rest', 'three\\nmain veins', 'the base', 'the leaf', 'secondary veins', 'the central main vein', 'The petiole', 'the\\nblade', 'Roldana subpeltata', '(Sch', 'H. Rob. &\\nBrettell, R. cordovensis', 'Brettell', '2.\\nheterogama', 'Benth', 'Brettell', 'some-\\ntimes R. angulifolia', 'DC', 'Brettell', 'eccentrically peltate leaves', 'Roldana _', 'Hook', 'Arn', 'Brettell', 'cauline leaves', 'Blade shape', 'outline', 'The blade margin', 'some secondary lobing', 'the sinus', 'one quarter', 'one half', 'the way', 'the midrib', 'Several species', 'serrate\\nmargins', 'All species', 'callous denticles', 'mm', 'margins', 'The smallest principal cauline']\n",
      "Verbs: ['be', 'complete', 'would', 'prove', 'work', 'be', 'outline', 'segregate', 'place', 'be', 'be', 'outline', 'have', 'be', 'use', 'help', 'illuminate', 'have', 'become', 'have', 'use', 'be', 'be', 'be', 'write', 'be', 'place', 'define', 'have', 'follow', 'include', 'cull', 'fall', 'be', 'be', 'be', 'comprise', 'branch', 'be', 'include', 'may', 'grow', 'be', 'be', 'cluster', 'be', 'branch', 'be', 'be', 'be', 'consist', 'spread', 'be', 'reveal', 'occur', 'have', 'fall', 'fall', 'come', 'develop', 'expand', 'be', 'be', 'terete', 'have', 'stem', 'have', 'be', 'be', 'be', 'be', 'use', 'vary', 'fall', 'include', 'be', 'be', 'contain', 'dense', 'multicelle', 'be', 'find', 'have', 'be', 'arrange', 'be', 'find', 'have', 'be', 'leave', 'have', 'be', 'distribute', 'be', 'have', 'be', 'cluster', 'grow', 'have', 'cluster', 'be', 'pinnipalmate', 'be', 'vein', 'be', 'vein', 'be', 'arise', 'arise', 'be', 'attach', 'have', 'peltate', 'roldana', 'may', 'have', 'be', 'rotund', 'be', 'lob', 'extend', 'have', 'have', 'leave']\n",
      "95 CARDINAL\n",
      "1996 DATE\n",
      "Barkley PERSON\n",
      "Clark PERSON\n",
      "Funston PERSON\n",
      "Senecio PERSON\n",
      "Cacalia PERSON\n",
      "Mexico GPE\n",
      "Central America LOC\n",
      "Roldana PERSON\n",
      "King PERSON\n",
      "Robinson PERSON\n",
      "1970 DATE\n",
      "Senecioneae GPE\n",
      "Greenman ORG\n",
      "48 CARDINAL\n",
      "eight CARDINAL\n",
      "Robinson\n",
      " ORG\n",
      "Brettell ORG\n",
      "1974 DATE\n",
      "Palmatinervii PERSON\n",
      "Pericalia GPE\n",
      "four CARDINAL\n",
      "Fruticosi GPE\n",
      "Senecio PERSON\n",
      "19 CARDINAL\n",
      "Roldana ORG\n",
      "three CARDINAL\n",
      "first ORDINAL\n",
      "1 CARDINAL\n",
      "second ORDINAL\n",
      "4 CARDINAL\n",
      "third ORDINAL\n",
      "Mexico GPE\n",
      "Funston PERSON\n",
      "Roldana acutangula FAC\n",
      "Bertol ORG\n",
      "Funston PERSON\n",
      "four CARDINAL\n",
      "first ORDINAL\n",
      "Trans-Mexican Volcanic Belt LAW\n",
      "second ORDINAL\n",
      "Roldana’s ORG\n",
      "third ORDINAL\n",
      "Mexican NORP\n",
      "R. NORP\n",
      "H. Rob PERSON\n",
      "half CARDINAL\n",
      "nine CARDINAL\n",
      "three CARDINAL\n",
      "H. Rob PERSON\n",
      "Brettell PERSON\n",
      "R. NORP\n",
      "Hemsl ORG\n",
      "H. Rob PERSON\n",
      "& Brettell ORG\n",
      "2 CARDINAL\n",
      "Benth PERSON\n",
      "H. Rob PERSON\n",
      "& Brettell ORG\n",
      "R. NORP\n",
      "DC GPE\n",
      "H. Rob PERSON\n",
      "& Brettell ORG\n",
      "& Arn ORG\n",
      "H. Rob PERSON\n",
      "& Brettell ORG\n",
      "one quarter to one half DATE\n"
     ]
    }
   ],
   "source": [
    "# Analyze syntax\n",
    "print(\"Noun phrases:\", [chunk.text for chunk in doc.noun_chunks])\n",
    "print(\"Verbs:\", [token.lemma_ for token in doc if token.pos_ == \"VERB\"])\n",
    "\n",
    "# Find named entities, phrases and concepts\n",
    "for entity in doc.ents:\n",
    "    print(entity.text, entity.label_)"
   ]
  },
  {
   "cell_type": "code",
   "execution_count": null,
   "metadata": {},
   "outputs": [],
   "source": []
  }
 ],
 "metadata": {
  "kernelspec": {
   "display_name": "PUP",
   "language": "python",
   "name": "pup"
  },
  "language_info": {
   "codemirror_mode": {
    "name": "ipython",
    "version": 3
   },
   "file_extension": ".py",
   "mimetype": "text/x-python",
   "name": "python",
   "nbconvert_exporter": "python",
   "pygments_lexer": "ipython3",
   "version": "3.6.5"
  }
 },
 "nbformat": 4,
 "nbformat_minor": 2
}
